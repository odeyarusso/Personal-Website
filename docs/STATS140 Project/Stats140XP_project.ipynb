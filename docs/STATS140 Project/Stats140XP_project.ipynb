{
  "nbformat": 4,
  "nbformat_minor": 0,
  "metadata": {
    "colab": {
      "provenance": []
    },
    "kernelspec": {
      "name": "python3",
      "display_name": "Python 3"
    },
    "language_info": {
      "name": "python"
    }
  },
  "cells": [
    {
      "cell_type": "markdown",
      "source": [
        "Data Cleaning"
      ],
      "metadata": {
        "id": "oAAPbNPH_ivg"
      }
    },
    {
      "cell_type": "code",
      "source": [
        "import pandas as pd\n",
        "import matplotlib.pyplot as plt\n",
        "\n",
        "# Load the CSV file into a DataFrame\n",
        "tweets_df = pd.read_csv('tweets_01-08-2021.csv')\n",
        "\n",
        "# Removing retweets\n",
        "tweets_df1 = tweets_df.loc[tweets_df['isRetweet'] == \"f\"].copy()\n",
        "\n",
        "# Check for any NA values in the DataFrame\n",
        "na_check = tweets_df1.isna().any()\n",
        "print(na_check)"
      ],
      "metadata": {
        "id": "2WIKl5SG_eyM",
        "colab": {
          "base_uri": "https://localhost:8080/"
        },
        "outputId": "3a59e673-2aa7-4b85-f518-6059d39317de"
      },
      "execution_count": null,
      "outputs": [
        {
          "output_type": "stream",
          "name": "stdout",
          "text": [
            "id           False\n",
            "text         False\n",
            "isRetweet    False\n",
            "isDeleted    False\n",
            "device       False\n",
            "favorites    False\n",
            "retweets     False\n",
            "date         False\n",
            "isFlagged    False\n",
            "dtype: bool\n"
          ]
        }
      ]
    },
    {
      "cell_type": "code",
      "source": [
        "# Convert 'date' column to datetime format\n",
        "tweets_df1['date'] = pd.to_datetime(tweets_df['date'])\n",
        "\n",
        "# Extract year from the 'date' column\n",
        "tweets_df1['year'] = tweets_df1['date'].dt.year\n",
        "\n",
        "# Calculate total tweets and 't' isFlagged tweets for each year\n",
        "yearly_tweets_table = tweets_df1.groupby('year')['isFlagged'].agg(['count', lambda x: (x == 't').sum()]).reset_index()\n",
        "yearly_tweets_table.columns = ['year', 'total_tweets', 'isFlagged_t_count']\n",
        "\n",
        "# Display the resulting table\n",
        "print(yearly_tweets_table)"
      ],
      "metadata": {
        "id": "7tYNNn-HyfDD",
        "colab": {
          "base_uri": "https://localhost:8080/"
        },
        "outputId": "ba51b42f-734b-4517-f115-225809f82f83"
      },
      "execution_count": null,
      "outputs": [
        {
          "output_type": "stream",
          "name": "stdout",
          "text": [
            "    year  total_tweets  isFlagged_t_count\n",
            "0   2009            56                  0\n",
            "1   2010           142                  0\n",
            "2   2011           772                  0\n",
            "3   2012          3523                  0\n",
            "4   2013          8128                  0\n",
            "5   2014          5784                  0\n",
            "6   2015          7536                  0\n",
            "7   2016          4037                  0\n",
            "8   2017          2292                  0\n",
            "9   2018          3104                  0\n",
            "10  2019          4936                  0\n",
            "11  2020          6280                250\n",
            "12  2021           104                  0\n"
          ]
        }
      ]
    },
    {
      "cell_type": "code",
      "source": [
        "# Convert 'date' column to datetime format\n",
        "tweets_df1['date'] = pd.to_datetime(tweets_df1['date'])\n",
        "\n",
        "# Subsetting data to only include tweets from year 2020\n",
        "tweets_2020_df = tweets_df1[tweets_df1[\"year\"] == 2020].copy()\n",
        "\n",
        "# Create a month column\n",
        "tweets_2020_df['month'] = tweets_2020_df['date'].dt.month\n",
        "\n",
        "# Calculate total tweets and 't' isFlagged tweets for each month\n",
        "monthly_tweets_table = tweets_2020_df.groupby('month')['isFlagged'].agg(['count', lambda x: (x == 't').sum()]).reset_index()\n",
        "monthly_tweets_table.columns = ['month', 'total_tweets', 'isFlagged_t_count']\n",
        "\n",
        "# Display the resulting table\n",
        "print(monthly_tweets_table)\n"
      ],
      "metadata": {
        "colab": {
          "base_uri": "https://localhost:8080/"
        },
        "id": "eArM4NpV2jWF",
        "outputId": "0523fd34-e885-4c1a-90b7-2578670f9576"
      },
      "execution_count": null,
      "outputs": [
        {
          "output_type": "stream",
          "name": "stdout",
          "text": [
            "    month  total_tweets  isFlagged_t_count\n",
            "0       1           397                  0\n",
            "1       2           397                  0\n",
            "2       3           447                  1\n",
            "3       4           379                  0\n",
            "4       5           568                  3\n",
            "5       6           542                  3\n",
            "6       7           353                  0\n",
            "7       8           573                  1\n",
            "8       9           724                 11\n",
            "9      10           878                  4\n",
            "10     11           599                170\n",
            "11     12           423                 57\n"
          ]
        }
      ]
    },
    {
      "cell_type": "code",
      "source": [
        "# Visualization\n",
        "plt.figure(figsize=(12, 6))\n",
        "\n",
        "# Plotting total tweets for each month\n",
        "plt.bar(monthly_tweets_table['month'] - 0.2, monthly_tweets_table['total_tweets'], width=0.4, label='Total Tweets', color='blue')\n",
        "\n",
        "# Plotting 't' flagged tweets for each month\n",
        "plt.bar(monthly_tweets_table['month'] + 0.2, monthly_tweets_table['isFlagged_t_count'], width=0.4, label=\"Flagged Tweets\", color='orange')\n",
        "\n",
        "# Adding some labels and title\n",
        "plt.xlabel('Month')\n",
        "plt.ylabel('Number of Tweets')\n",
        "plt.title('Monthly Tweet Activity for 2020')\n",
        "plt.xticks(monthly_tweets_table['month'], ['Jan', 'Feb', 'Mar', 'Apr', 'May', 'Jun', 'Jul', 'Aug', 'Sep', 'Oct', 'Nov', 'Dec'])\n",
        "plt.legend()\n",
        "\n",
        "# Save the plot as a PNG file\n",
        "plt.savefig('monthly_tweet_activity.png')\n",
        "\n",
        "# Show the plot\n",
        "plt.show()\n"
      ],
      "metadata": {
        "colab": {
          "base_uri": "https://localhost:8080/",
          "height": 564
        },
        "id": "PQyMyigjP2B9",
        "outputId": "f180cfe2-1bd2-4ec9-db38-6eb3248ec522"
      },
      "execution_count": null,
      "outputs": [
        {
          "output_type": "display_data",
          "data": {
            "text/plain": [
              "<Figure size 1200x600 with 1 Axes>"
            ],
            "image/png": "[encoded data removed]"
          },
          "metadata": {}
        }
      ]
    },
    {
      "cell_type": "markdown",
      "source": [
        "Exploratory Analysis"
      ],
      "metadata": {
        "id": "c-odJrwOIv3I"
      }
    },
    {
      "cell_type": "code",
      "source": [
        "# Cleaned Dataset\n",
        "# Trump tweets (no retweets and during the year 2020)\n",
        "\n",
        "clean_2020_df = tweets_2020_df\n",
        "\n",
        "print(clean_2020_df.info())"
      ],
      "metadata": {
        "colab": {
          "base_uri": "https://localhost:8080/"
        },
        "id": "HHTeS4wtIui2",
        "outputId": "99cc829a-8475-4bb2-e639-abd9c8bbdfd6"
      },
      "execution_count": null,
      "outputs": [
        {
          "output_type": "stream",
          "name": "stdout",
          "text": [
            "<class 'pandas.core.frame.DataFrame'>\n",
            "Int64Index: 6280 entries, 1 to 56570\n",
            "Data columns (total 11 columns):\n",
            " #   Column     Non-Null Count  Dtype         \n",
            "---  ------     --------------  -----         \n",
            " 0   id         6280 non-null   int64         \n",
            " 1   text       6280 non-null   object        \n",
            " 2   isRetweet  6280 non-null   object        \n",
            " 3   isDeleted  6280 non-null   object        \n",
            " 4   device     6280 non-null   object        \n",
            " 5   favorites  6280 non-null   int64         \n",
            " 6   retweets   6280 non-null   int64         \n",
            " 7   date       6280 non-null   datetime64[ns]\n",
            " 8   isFlagged  6280 non-null   object        \n",
            " 9   year       6280 non-null   int64         \n",
            " 10  month      6280 non-null   int64         \n",
            "dtypes: datetime64[ns](1), int64(5), object(5)\n",
            "memory usage: 588.8+ KB\n",
            "None\n"
          ]
        }
      ]
    },
    {
      "cell_type": "code",
      "source": [
        "flagged_tweets = clean_2020_df[\"isFlagged\"]\n",
        "\n",
        "# Table displaying the number and percentage of tweets which are flagged versus not flagged\n",
        "frequency_table = flagged_tweets.value_counts()\n",
        "percentages = (frequency_table/ len(flagged_tweets)) * 100\n",
        "\n",
        "flagged_tweets_table = pd.DataFrame({'Frequency': frequency_table, 'Percentage': percentages})\n",
        "flagged_tweets_table"
      ],
      "metadata": {
        "colab": {
          "base_uri": "https://localhost:8080/",
          "height": 112
        },
        "id": "MT-T9Gj33u-v",
        "outputId": "3518c130-9fbe-4491-b854-3863cd89a967"
      },
      "execution_count": null,
      "outputs": [
        {
          "output_type": "execute_result",
          "data": {
            "text/plain": [
              "   Frequency  Percentage\n",
              "f       6030   96.019108\n",
              "t        250    3.980892"
            ],
            "text/html": [
              "\n",
              "  <div id=\"df-239ee143-aae7-4fbf-9dce-513cd00e7280\" class=\"colab-df-container\">\n",
              "    <div>\n",
              "<style scoped>\n",
              "    .dataframe tbody tr th:only-of-type {\n",
              "        vertical-align: middle;\n",
              "    }\n",
              "\n",
              "    .dataframe tbody tr th {\n",
              "        vertical-align: top;\n",
              "    }\n",
              "\n",
              "    .dataframe thead th {\n",
              "        text-align: right;\n",
              "    }\n",
              "</style>\n",
              "<table border=\"1\" class=\"dataframe\">\n",
              "  <thead>\n",
              "    <tr style=\"text-align: right;\">\n",
              "      <th></th>\n",
              "      <th>Frequency</th>\n",
              "      <th>Percentage</th>\n",
              "    </tr>\n",
              "  </thead>\n",
              "  <tbody>\n",
              "    <tr>\n",
              "      <th>f</th>\n",
              "      <td>6030</td>\n",
              "      <td>96.019108</td>\n",
              "    </tr>\n",
              "    <tr>\n",
              "      <th>t</th>\n",
              "      <td>250</td>\n",
              "      <td>3.980892</td>\n",
              "    </tr>\n",
              "  </tbody>\n",
              "</table>\n",
              "</div>\n",
              "    <div class=\"colab-df-buttons\">\n",
              "\n",
              "  <div class=\"colab-df-container\">\n",
              "    <button class=\"colab-df-convert\" onclick=\"convertToInteractive('df-239ee143-aae7-4fbf-9dce-513cd00e7280')\"\n",
              "            title=\"Convert this dataframe to an interactive table.\"\n",
              "            style=\"display:none;\">\n",
              "\n",
              "  <svg xmlns=\"http://www.w3.org/2000/svg\" height=\"24px\" viewBox=\"0 -960 960 960\">\n",
              "    <path d=\"M120-120v-720h720v720H120Zm60-500h600v-160H180v160Zm220 220h160v-160H400v160Zm0 220h160v-160H400v160ZM180-400h160v-160H180v160Zm440 0h160v-160H620v160ZM180-180h160v-160H180v160Zm440 0h160v-160H620v160Z\"/>\n",
              "  </svg>\n",
              "    </button>\n",
              "\n",
              "  <style>\n",
              "    .colab-df-container {\n",
              "      display:flex;\n",
              "      gap: 12px;\n",
              "    }\n",
              "\n",
              "    .colab-df-convert {\n",
              "      background-color: #E8F0FE;\n",
              "      border: none;\n",
              "      border-radius: 50%;\n",
              "      cursor: pointer;\n",
              "      display: none;\n",
              "      fill: #1967D2;\n",
              "      height: 32px;\n",
              "      padding: 0 0 0 0;\n",
              "      width: 32px;\n",
              "    }\n",
              "\n",
              "    .colab-df-convert:hover {\n",
              "      background-color: #E2EBFA;\n",
              "      box-shadow: 0px 1px 2px rgba(60, 64, 67, 0.3), 0px 1px 3px 1px rgba(60, 64, 67, 0.15);\n",
              "      fill: #174EA6;\n",
              "    }\n",
              "\n",
              "    .colab-df-buttons div {\n",
              "      margin-bottom: 4px;\n",
              "    }\n",
              "\n",
              "    [theme=dark] .colab-df-convert {\n",
              "      background-color: #3B4455;\n",
              "      fill: #D2E3FC;\n",
              "    }\n",
              "\n",
              "    [theme=dark] .colab-df-convert:hover {\n",
              "      background-color: #434B5C;\n",
              "      box-shadow: 0px 1px 3px 1px rgba(0, 0, 0, 0.15);\n",
              "      filter: drop-shadow(0px 1px 2px rgba(0, 0, 0, 0.3));\n",
              "      fill: #FFFFFF;\n",
              "    }\n",
              "  </style>\n",
              "\n",
              "    <script>\n",
              "      const buttonEl =\n",
              "        document.querySelector('#df-239ee143-aae7-4fbf-9dce-513cd00e7280 button.colab-df-convert');\n",
              "      buttonEl.style.display =\n",
              "        google.colab.kernel.accessAllowed ? 'block' : 'none';\n",
              "\n",
              "      async function convertToInteractive(key) {\n",
              "        const element = document.querySelector('#df-239ee143-aae7-4fbf-9dce-513cd00e7280');\n",
              "        const dataTable =\n",
              "          await google.colab.kernel.invokeFunction('convertToInteractive',\n",
              "                                                    [key], {});\n",
              "        if (!dataTable) return;\n",
              "\n",
              "        const docLinkHtml = 'Like what you see? Visit the ' +\n",
              "          '<a target=\"_blank\" href=https://colab.research.google.com/notebooks/data_table.ipynb>data table notebook</a>'\n",
              "          + ' to learn more about interactive tables.';\n",
              "        element.innerHTML = '';\n",
              "        dataTable['output_type'] = 'display_data';\n",
              "        await google.colab.output.renderOutput(dataTable, element);\n",
              "        const docLink = document.createElement('div');\n",
              "        docLink.innerHTML = docLinkHtml;\n",
              "        element.appendChild(docLink);\n",
              "      }\n",
              "    </script>\n",
              "  </div>\n",
              "\n",
              "\n",
              "<div id=\"df-3d3222f6-f7c3-479a-b48c-9c2fcf7b0a1c\">\n",
              "  <button class=\"colab-df-quickchart\" onclick=\"quickchart('df-3d3222f6-f7c3-479a-b48c-9c2fcf7b0a1c')\"\n",
              "            title=\"Suggest charts\"\n",
              "            style=\"display:none;\">\n",
              "\n",
              "<svg xmlns=\"http://www.w3.org/2000/svg\" height=\"24px\"viewBox=\"0 0 24 24\"\n",
              "     width=\"24px\">\n",
              "    <g>\n",
              "        <path d=\"M19 3H5c-1.1 0-2 .9-2 2v14c0 1.1.9 2 2 2h14c1.1 0 2-.9 2-2V5c0-1.1-.9-2-2-2zM9 17H7v-7h2v7zm4 0h-2V7h2v10zm4 0h-2v-4h2v4z\"/>\n",
              "    </g>\n",
              "</svg>\n",
              "  </button>\n",
              "\n",
              "<style>\n",
              "  .colab-df-quickchart {\n",
              "      --bg-color: #E8F0FE;\n",
              "      --fill-color: #1967D2;\n",
              "      --hover-bg-color: #E2EBFA;\n",
              "      --hover-fill-color: #174EA6;\n",
              "      --disabled-fill-color: #AAA;\n",
              "      --disabled-bg-color: #DDD;\n",
              "  }\n",
              "\n",
              "  [theme=dark] .colab-df-quickchart {\n",
              "      --bg-color: #3B4455;\n",
              "      --fill-color: #D2E3FC;\n",
              "      --hover-bg-color: #434B5C;\n",
              "      --hover-fill-color: #FFFFFF;\n",
              "      --disabled-bg-color: #3B4455;\n",
              "      --disabled-fill-color: #666;\n",
              "  }\n",
              "\n",
              "  .colab-df-quickchart {\n",
              "    background-color: var(--bg-color);\n",
              "    border: none;\n",
              "    border-radius: 50%;\n",
              "    cursor: pointer;\n",
              "    display: none;\n",
              "    fill: var(--fill-color);\n",
              "    height: 32px;\n",
              "    padding: 0;\n",
              "    width: 32px;\n",
              "  }\n",
              "\n",
              "  .colab-df-quickchart:hover {\n",
              "    background-color: var(--hover-bg-color);\n",
              "    box-shadow: 0 1px 2px rgba(60, 64, 67, 0.3), 0 1px 3px 1px rgba(60, 64, 67, 0.15);\n",
              "    fill: var(--button-hover-fill-color);\n",
              "  }\n",
              "\n",
              "  .colab-df-quickchart-complete:disabled,\n",
              "  .colab-df-quickchart-complete:disabled:hover {\n",
              "    background-color: var(--disabled-bg-color);\n",
              "    fill: var(--disabled-fill-color);\n",
              "    box-shadow: none;\n",
              "  }\n",
              "\n",
              "  .colab-df-spinner {\n",
              "    border: 2px solid var(--fill-color);\n",
              "    border-color: transparent;\n",
              "    border-bottom-color: var(--fill-color);\n",
              "    animation:\n",
              "      spin 1s steps(1) infinite;\n",
              "  }\n",
              "\n",
              "  @keyframes spin {\n",
              "    0% {\n",
              "      border-color: transparent;\n",
              "      border-bottom-color: var(--fill-color);\n",
              "      border-left-color: var(--fill-color);\n",
              "    }\n",
              "    20% {\n",
              "      border-color: transparent;\n",
              "      border-left-color: var(--fill-color);\n",
              "      border-top-color: var(--fill-color);\n",
              "    }\n",
              "    30% {\n",
              "      border-color: transparent;\n",
              "      border-left-color: var(--fill-color);\n",
              "      border-top-color: var(--fill-color);\n",
              "      border-right-color: var(--fill-color);\n",
              "    }\n",
              "    40% {\n",
              "      border-color: transparent;\n",
              "      border-right-color: var(--fill-color);\n",
              "      border-top-color: var(--fill-color);\n",
              "    }\n",
              "    60% {\n",
              "      border-color: transparent;\n",
              "      border-right-color: var(--fill-color);\n",
              "    }\n",
              "    80% {\n",
              "      border-color: transparent;\n",
              "      border-right-color: var(--fill-color);\n",
              "      border-bottom-color: var(--fill-color);\n",
              "    }\n",
              "    90% {\n",
              "      border-color: transparent;\n",
              "      border-bottom-color: var(--fill-color);\n",
              "    }\n",
              "  }\n",
              "</style>\n",
              "\n",
              "  <script>\n",
              "    async function quickchart(key) {\n",
              "      const quickchartButtonEl =\n",
              "        document.querySelector('#' + key + ' button');\n",
              "      quickchartButtonEl.disabled = true;  // To prevent multiple clicks.\n",
              "      quickchartButtonEl.classList.add('colab-df-spinner');\n",
              "      try {\n",
              "        const charts = await google.colab.kernel.invokeFunction(\n",
              "            'suggestCharts', [key], {});\n",
              "      } catch (error) {\n",
              "        console.error('Error during call to suggestCharts:', error);\n",
              "      }\n",
              "      quickchartButtonEl.classList.remove('colab-df-spinner');\n",
              "      quickchartButtonEl.classList.add('colab-df-quickchart-complete');\n",
              "    }\n",
              "    (() => {\n",
              "      let quickchartButtonEl =\n",
              "        document.querySelector('#df-3d3222f6-f7c3-479a-b48c-9c2fcf7b0a1c button');\n",
              "      quickchartButtonEl.style.display =\n",
              "        google.colab.kernel.accessAllowed ? 'block' : 'none';\n",
              "    })();\n",
              "  </script>\n",
              "</div>\n",
              "    </div>\n",
              "  </div>\n"
            ],
            "application/vnd.google.colaboratory.intrinsic+json": {
              "type": "dataframe",
              "variable_name": "flagged_tweets_table",
              "summary": "{\n  \"name\": \"flagged_tweets_table\",\n  \"rows\": 2,\n  \"fields\": [\n    {\n      \"column\": \"Frequency\",\n      \"properties\": {\n        \"dtype\": \"number\",\n        \"std\": 4087,\n        \"min\": 250,\n        \"max\": 6030,\n        \"num_unique_values\": 2,\n        \"samples\": [\n          250,\n          6030\n        ],\n        \"semantic_type\": \"\",\n        \"description\": \"\"\n      }\n    },\n    {\n      \"column\": \"Percentage\",\n      \"properties\": {\n        \"dtype\": \"number\",\n        \"std\": 65.08084705825229,\n        \"min\": 3.9808917197452227,\n        \"max\": 96.01910828025477,\n        \"num_unique_values\": 2,\n        \"samples\": [\n          3.9808917197452227,\n          96.01910828025477\n        ],\n        \"semantic_type\": \"\",\n        \"description\": \"\"\n      }\n    }\n  ]\n}"
            }
          },
          "metadata": {},
          "execution_count": 7
        }
      ]
    },
    {
      "cell_type": "code",
      "source": [
        "import matplotlib.pyplot as plt\n",
        "\n",
        "flag_counts = clean_2020_df['isFlagged'].value_counts()\n",
        "colors = ['#FF9999', '#66B2FF']\n",
        "plt.pie(flag_counts, autopct='%1.1f%%', startangle=90, colors=colors)\n",
        "\n",
        "# Modify the legend labels to include frequency and percentage\n",
        "not_flagged_label = f'Not Flagged - 6030 (96.0%)'\n",
        "flagged_label = f'Flagged - 250 (4.0%)'\n",
        "plt.legend([not_flagged_label, flagged_label], loc='lower right')  # Position legend at the right bottom corner\n",
        "\n",
        "plt.axis('equal')\n",
        "plt.title('Trump 2020 Flagged Tweets Distribution')\n",
        "\n",
        "# Save the pie chart as a PNG file\n",
        "plt.savefig('flagged_tweets_pie_chart_with_details_lower_right.png')\n",
        "\n",
        "plt.show()\n"
      ],
      "metadata": {
        "colab": {
          "base_uri": "https://localhost:8080/",
          "height": 428
        },
        "id": "X0ZQRVZ3MRnL",
        "outputId": "60781c45-8cc5-40f8-fcdc-ac49f138bb1a"
      },
      "execution_count": null,
      "outputs": [
        {
          "output_type": "display_data",
          "data": {
            "text/plain": [
              "<Figure size 640x480 with 1 Axes>"
            ],
            "image/png": "[encoded data removed]"
          },
          "metadata": {}
        }
      ]
    },
    {
      "cell_type": "markdown",
      "source": [
        "\n",
        "\n",
        "---\n",
        "\n"
      ],
      "metadata": {
        "id": "4wyF969M9KeK"
      }
    },
    {
      "cell_type": "code",
      "source": [
        "import pandas as pd\n",
        "import pandas as pd\n",
        "import matplotlib.pyplot as plt\n",
        "import seaborn as sns\n",
        "import plotly.express as px\n",
        "from matplotlib import style\n",
        "style.use('ggplot')\n",
        "import re\n",
        "import nltk\n",
        "import numpy as np\n",
        "nltk.download('stopwords')\n",
        "nltk.download('punkt')\n",
        "from nltk.tokenize import word_tokenize\n",
        "from sklearn.ensemble import RandomForestClassifier\n",
        "from nltk.stem import PorterStemmer\n",
        "from nltk.corpus import stopwords\n",
        "from wordcloud import WordCloud\n",
        "from sklearn.feature_extraction.text import TfidfVectorizer\n",
        "from sklearn.model_selection import train_test_split\n",
        "from collections import Counter\n",
        "!pip install imbalanced-learn\n",
        "!pip install pillow==9.5\n",
        "tweets_df = pd.read_csv('tweets_01-08-2021.csv')"
      ],
      "metadata": {
        "colab": {
          "base_uri": "https://localhost:8080/",
          "height": 474
        },
        "id": "amW4o6LX1J4u",
        "outputId": "4b980caa-efec-4627-b19f-563efefdde9d"
      },
      "execution_count": null,
      "outputs": [
        {
          "output_type": "stream",
          "name": "stderr",
          "text": [
            "[nltk_data] Downloading package stopwords to /root/nltk_data...\n",
            "[nltk_data]   Unzipping corpora/stopwords.zip.\n",
            "[nltk_data] Downloading package punkt to /root/nltk_data...\n",
            "[nltk_data]   Unzipping tokenizers/punkt.zip.\n"
          ]
        },
        {
          "output_type": "stream",
          "name": "stdout",
          "text": [
            "Requirement already satisfied: imbalanced-learn in /usr/local/lib/python3.10/dist-packages (0.10.1)\n",
            "Requirement already satisfied: numpy>=1.17.3 in /usr/local/lib/python3.10/dist-packages (from imbalanced-learn) (1.25.2)\n",
            "Requirement already satisfied: scipy>=1.3.2 in /usr/local/lib/python3.10/dist-packages (from imbalanced-learn) (1.11.4)\n",
            "Requirement already satisfied: scikit-learn>=1.0.2 in /usr/local/lib/python3.10/dist-packages (from imbalanced-learn) (1.2.2)\n",
            "Requirement already satisfied: joblib>=1.1.1 in /usr/local/lib/python3.10/dist-packages (from imbalanced-learn) (1.3.2)\n",
            "Requirement already satisfied: threadpoolctl>=2.0.0 in /usr/local/lib/python3.10/dist-packages (from imbalanced-learn) (3.3.0)\n",
            "Collecting pillow==9.5\n",
            "  Downloading Pillow-9.5.0-cp310-cp310-manylinux_2_28_x86_64.whl (3.4 MB)\n",
            "\u001b[2K     \u001b[90m━━━━━━━━━━━━━━━━━━━━━━━━━━━━━━━━━━━━━━━━\u001b[0m \u001b[32m3.4/3.4 MB\u001b[0m \u001b[31m12.5 MB/s\u001b[0m eta \u001b[36m0:00:00\u001b[0m\n",
            "\u001b[?25hInstalling collected packages: pillow\n",
            "  Attempting uninstall: pillow\n",
            "    Found existing installation: Pillow 9.4.0\n",
            "    Uninstalling Pillow-9.4.0:\n",
            "      Successfully uninstalled Pillow-9.4.0\n",
            "Successfully installed pillow-9.5.0\n"
          ]
        },
        {
          "output_type": "display_data",
          "data": {
            "application/vnd.colab-display-data+json": {
              "pip_warning": {
                "packages": [
                  "PIL"
                ]
              },
              "id": "daea4b41aa0341fe98053282a1cc009e"
            }
          },
          "metadata": {}
        }
      ]
    },
    {
      "cell_type": "code",
      "source": [
        "# Convert 'f' and 't' to False and True\n",
        "tweets_df['isRetweet'] = tweets_df['isRetweet'].replace({'f': False, 't': True})\n",
        "\n",
        "# Convert the 'isRetweet' column to boolean type\n",
        "tweets_df['isRetweet'] = tweets_df['isRetweet'].astype(bool)\n",
        "\n",
        "# Convert 'f' and 't' to False and True\n",
        "tweets_df['isDeleted'] = tweets_df['isDeleted'].replace({'f': False, 't': True})\n",
        "\n",
        "# Convert the 'isDeleted' column to boolean type\n",
        "tweets_df['isDeleted'] = tweets_df['isDeleted'].astype(bool)\n",
        "\n",
        "# Convert 'f' and 't' to False and True\n",
        "tweets_df['isFlagged'] = tweets_df['isFlagged'].replace({'f': False, 't': True})\n",
        "\n",
        "# Convert the 'isFlagged' column to boolean type\n",
        "tweets_df['isFlagged'] = tweets_df['isFlagged'].astype(bool)\n",
        "\n",
        "\n",
        "tweets_df = tweets_df.loc[tweets_df['isRetweet'] == False]\n",
        "tweets_df"
      ],
      "metadata": {
        "colab": {
          "base_uri": "https://localhost:8080/",
          "height": 791
        },
        "id": "EZXP6AD6-syR",
        "outputId": "081fd56b-953c-4c89-8478-4e0a44b30064"
      },
      "execution_count": null,
      "outputs": [
        {
          "output_type": "execute_result",
          "data": {
            "text/plain": [
              "                        id                                               text  \\\n",
              "0        98454970654916608  Republicans and Democrats have both created ou...   \n",
              "1      1234653427789070336  I was thrilled to be back in the Great city of...   \n",
              "3      1304875170860015617  The Unsolicited Mail In Ballot Scam is a major...   \n",
              "6      1223640662689689602  Getting a little exercise this morning! https:...   \n",
              "7      1319501865625784320                            https://t.co/4qwCKQOiOw   \n",
              "...                    ...                                                ...   \n",
              "56555  1213078681750573056  Iran never won a war, but never lost a negotia...   \n",
              "56559  1212177432452698115  Thank you to the @dcexaminer Washington Examin...   \n",
              "56560  1212175360093229056  One of my greatest honors was to have gotten C...   \n",
              "56569  1319384118849949702  Just signed an order to support the workers of...   \n",
              "56570  1319345719829008387  Suburban women want Safety &amp; Security. Joe...   \n",
              "\n",
              "       isRetweet  isDeleted              device  favorites  retweets  \\\n",
              "0          False      False           TweetDeck         49       255   \n",
              "1          False      False  Twitter for iPhone      73748     17404   \n",
              "3          False      False  Twitter for iPhone      80527     23502   \n",
              "6          False      False  Twitter for iPhone     285863     30209   \n",
              "7          False      False  Twitter for iPhone     130822     19127   \n",
              "...          ...        ...                 ...        ...       ...   \n",
              "56555      False      False  Twitter for iPhone     303007     57253   \n",
              "56559      False      False  Twitter for iPhone      35044      9213   \n",
              "56560      False      False  Twitter for iPhone      56731     12761   \n",
              "56569      False      False  Twitter for iPhone     176289     36001   \n",
              "56570      False      False  Twitter for iPhone      95169     19545   \n",
              "\n",
              "                      date  isFlagged  \n",
              "0      2011-08-02 18:07:48      False  \n",
              "1      2020-03-03 01:34:50      False  \n",
              "3      2020-09-12 20:10:58      False  \n",
              "6      2020-02-01 16:14:02      False  \n",
              "7      2020-10-23 04:52:14      False  \n",
              "...                    ...        ...  \n",
              "56555  2020-01-03 12:44:30      False  \n",
              "56559  2020-01-01 01:03:15      False  \n",
              "56560  2020-01-01 00:55:01      False  \n",
              "56569  2020-10-22 21:04:21      False  \n",
              "56570  2020-10-22 18:31:46      False  \n",
              "\n",
              "[46694 rows x 9 columns]"
            ],
            "text/html": [
              "\n",
              "  <div id=\"df-5a340cb9-0b0f-4845-8371-14bda1ca1ec1\" class=\"colab-df-container\">\n",
              "    <div>\n",
              "<style scoped>\n",
              "    .dataframe tbody tr th:only-of-type {\n",
              "        vertical-align: middle;\n",
              "    }\n",
              "\n",
              "    .dataframe tbody tr th {\n",
              "        vertical-align: top;\n",
              "    }\n",
              "\n",
              "    .dataframe thead th {\n",
              "        text-align: right;\n",
              "    }\n",
              "</style>\n",
              "<table border=\"1\" class=\"dataframe\">\n",
              "  <thead>\n",
              "    <tr style=\"text-align: right;\">\n",
              "      <th></th>\n",
              "      <th>id</th>\n",
              "      <th>text</th>\n",
              "      <th>isRetweet</th>\n",
              "      <th>isDeleted</th>\n",
              "      <th>device</th>\n",
              "      <th>favorites</th>\n",
              "      <th>retweets</th>\n",
              "      <th>date</th>\n",
              "      <th>isFlagged</th>\n",
              "    </tr>\n",
              "  </thead>\n",
              "  <tbody>\n",
              "    <tr>\n",
              "      <th>0</th>\n",
              "      <td>98454970654916608</td>\n",
              "      <td>Republicans and Democrats have both created ou...</td>\n",
              "      <td>False</td>\n",
              "      <td>False</td>\n",
              "      <td>TweetDeck</td>\n",
              "      <td>49</td>\n",
              "      <td>255</td>\n",
              "      <td>2011-08-02 18:07:48</td>\n",
              "      <td>False</td>\n",
              "    </tr>\n",
              "    <tr>\n",
              "      <th>1</th>\n",
              "      <td>1234653427789070336</td>\n",
              "      <td>I was thrilled to be back in the Great city of...</td>\n",
              "      <td>False</td>\n",
              "      <td>False</td>\n",
              "      <td>Twitter for iPhone</td>\n",
              "      <td>73748</td>\n",
              "      <td>17404</td>\n",
              "      <td>2020-03-03 01:34:50</td>\n",
              "      <td>False</td>\n",
              "    </tr>\n",
              "    <tr>\n",
              "      <th>3</th>\n",
              "      <td>1304875170860015617</td>\n",
              "      <td>The Unsolicited Mail In Ballot Scam is a major...</td>\n",
              "      <td>False</td>\n",
              "      <td>False</td>\n",
              "      <td>Twitter for iPhone</td>\n",
              "      <td>80527</td>\n",
              "      <td>23502</td>\n",
              "      <td>2020-09-12 20:10:58</td>\n",
              "      <td>False</td>\n",
              "    </tr>\n",
              "    <tr>\n",
              "      <th>6</th>\n",
              "      <td>1223640662689689602</td>\n",
              "      <td>Getting a little exercise this morning! https:...</td>\n",
              "      <td>False</td>\n",
              "      <td>False</td>\n",
              "      <td>Twitter for iPhone</td>\n",
              "      <td>285863</td>\n",
              "      <td>30209</td>\n",
              "      <td>2020-02-01 16:14:02</td>\n",
              "      <td>False</td>\n",
              "    </tr>\n",
              "    <tr>\n",
              "      <th>7</th>\n",
              "      <td>1319501865625784320</td>\n",
              "      <td>https://t.co/4qwCKQOiOw</td>\n",
              "      <td>False</td>\n",
              "      <td>False</td>\n",
              "      <td>Twitter for iPhone</td>\n",
              "      <td>130822</td>\n",
              "      <td>19127</td>\n",
              "      <td>2020-10-23 04:52:14</td>\n",
              "      <td>False</td>\n",
              "    </tr>\n",
              "    <tr>\n",
              "      <th>...</th>\n",
              "      <td>...</td>\n",
              "      <td>...</td>\n",
              "      <td>...</td>\n",
              "      <td>...</td>\n",
              "      <td>...</td>\n",
              "      <td>...</td>\n",
              "      <td>...</td>\n",
              "      <td>...</td>\n",
              "      <td>...</td>\n",
              "    </tr>\n",
              "    <tr>\n",
              "      <th>56555</th>\n",
              "      <td>1213078681750573056</td>\n",
              "      <td>Iran never won a war, but never lost a negotia...</td>\n",
              "      <td>False</td>\n",
              "      <td>False</td>\n",
              "      <td>Twitter for iPhone</td>\n",
              "      <td>303007</td>\n",
              "      <td>57253</td>\n",
              "      <td>2020-01-03 12:44:30</td>\n",
              "      <td>False</td>\n",
              "    </tr>\n",
              "    <tr>\n",
              "      <th>56559</th>\n",
              "      <td>1212177432452698115</td>\n",
              "      <td>Thank you to the @dcexaminer Washington Examin...</td>\n",
              "      <td>False</td>\n",
              "      <td>False</td>\n",
              "      <td>Twitter for iPhone</td>\n",
              "      <td>35044</td>\n",
              "      <td>9213</td>\n",
              "      <td>2020-01-01 01:03:15</td>\n",
              "      <td>False</td>\n",
              "    </tr>\n",
              "    <tr>\n",
              "      <th>56560</th>\n",
              "      <td>1212175360093229056</td>\n",
              "      <td>One of my greatest honors was to have gotten C...</td>\n",
              "      <td>False</td>\n",
              "      <td>False</td>\n",
              "      <td>Twitter for iPhone</td>\n",
              "      <td>56731</td>\n",
              "      <td>12761</td>\n",
              "      <td>2020-01-01 00:55:01</td>\n",
              "      <td>False</td>\n",
              "    </tr>\n",
              "    <tr>\n",
              "      <th>56569</th>\n",
              "      <td>1319384118849949702</td>\n",
              "      <td>Just signed an order to support the workers of...</td>\n",
              "      <td>False</td>\n",
              "      <td>False</td>\n",
              "      <td>Twitter for iPhone</td>\n",
              "      <td>176289</td>\n",
              "      <td>36001</td>\n",
              "      <td>2020-10-22 21:04:21</td>\n",
              "      <td>False</td>\n",
              "    </tr>\n",
              "    <tr>\n",
              "      <th>56570</th>\n",
              "      <td>1319345719829008387</td>\n",
              "      <td>Suburban women want Safety &amp;amp; Security. Joe...</td>\n",
              "      <td>False</td>\n",
              "      <td>False</td>\n",
              "      <td>Twitter for iPhone</td>\n",
              "      <td>95169</td>\n",
              "      <td>19545</td>\n",
              "      <td>2020-10-22 18:31:46</td>\n",
              "      <td>False</td>\n",
              "    </tr>\n",
              "  </tbody>\n",
              "</table>\n",
              "<p>46694 rows × 9 columns</p>\n",
              "</div>\n",
              "    <div class=\"colab-df-buttons\">\n",
              "\n",
              "  <div class=\"colab-df-container\">\n",
              "    <button class=\"colab-df-convert\" onclick=\"convertToInteractive('df-5a340cb9-0b0f-4845-8371-14bda1ca1ec1')\"\n",
              "            title=\"Convert this dataframe to an interactive table.\"\n",
              "            style=\"display:none;\">\n",
              "\n",
              "  <svg xmlns=\"http://www.w3.org/2000/svg\" height=\"24px\" viewBox=\"0 -960 960 960\">\n",
              "    <path d=\"M120-120v-720h720v720H120Zm60-500h600v-160H180v160Zm220 220h160v-160H400v160Zm0 220h160v-160H400v160ZM180-400h160v-160H180v160Zm440 0h160v-160H620v160ZM180-180h160v-160H180v160Zm440 0h160v-160H620v160Z\"/>\n",
              "  </svg>\n",
              "    </button>\n",
              "\n",
              "  <style>\n",
              "    .colab-df-container {\n",
              "      display:flex;\n",
              "      gap: 12px;\n",
              "    }\n",
              "\n",
              "    .colab-df-convert {\n",
              "      background-color: #E8F0FE;\n",
              "      border: none;\n",
              "      border-radius: 50%;\n",
              "      cursor: pointer;\n",
              "      display: none;\n",
              "      fill: #1967D2;\n",
              "      height: 32px;\n",
              "      padding: 0 0 0 0;\n",
              "      width: 32px;\n",
              "    }\n",
              "\n",
              "    .colab-df-convert:hover {\n",
              "      background-color: #E2EBFA;\n",
              "      box-shadow: 0px 1px 2px rgba(60, 64, 67, 0.3), 0px 1px 3px 1px rgba(60, 64, 67, 0.15);\n",
              "      fill: #174EA6;\n",
              "    }\n",
              "\n",
              "    .colab-df-buttons div {\n",
              "      margin-bottom: 4px;\n",
              "    }\n",
              "\n",
              "    [theme=dark] .colab-df-convert {\n",
              "      background-color: #3B4455;\n",
              "      fill: #D2E3FC;\n",
              "    }\n",
              "\n",
              "    [theme=dark] .colab-df-convert:hover {\n",
              "      background-color: #434B5C;\n",
              "      box-shadow: 0px 1px 3px 1px rgba(0, 0, 0, 0.15);\n",
              "      filter: drop-shadow(0px 1px 2px rgba(0, 0, 0, 0.3));\n",
              "      fill: #FFFFFF;\n",
              "    }\n",
              "  </style>\n",
              "\n",
              "    <script>\n",
              "      const buttonEl =\n",
              "        document.querySelector('#df-5a340cb9-0b0f-4845-8371-14bda1ca1ec1 button.colab-df-convert');\n",
              "      buttonEl.style.display =\n",
              "        google.colab.kernel.accessAllowed ? 'block' : 'none';\n",
              "\n",
              "      async function convertToInteractive(key) {\n",
              "        const element = document.querySelector('#df-5a340cb9-0b0f-4845-8371-14bda1ca1ec1');\n",
              "        const dataTable =\n",
              "          await google.colab.kernel.invokeFunction('convertToInteractive',\n",
              "                                                    [key], {});\n",
              "        if (!dataTable) return;\n",
              "\n",
              "        const docLinkHtml = 'Like what you see? Visit the ' +\n",
              "          '<a target=\"_blank\" href=https://colab.research.google.com/notebooks/data_table.ipynb>data table notebook</a>'\n",
              "          + ' to learn more about interactive tables.';\n",
              "        element.innerHTML = '';\n",
              "        dataTable['output_type'] = 'display_data';\n",
              "        await google.colab.output.renderOutput(dataTable, element);\n",
              "        const docLink = document.createElement('div');\n",
              "        docLink.innerHTML = docLinkHtml;\n",
              "        element.appendChild(docLink);\n",
              "      }\n",
              "    </script>\n",
              "  </div>\n",
              "\n",
              "\n",
              "<div id=\"df-dfa8d637-356c-4cbd-95de-02bb929cd6a1\">\n",
              "  <button class=\"colab-df-quickchart\" onclick=\"quickchart('df-dfa8d637-356c-4cbd-95de-02bb929cd6a1')\"\n",
              "            title=\"Suggest charts\"\n",
              "            style=\"display:none;\">\n",
              "\n",
              "<svg xmlns=\"http://www.w3.org/2000/svg\" height=\"24px\"viewBox=\"0 0 24 24\"\n",
              "     width=\"24px\">\n",
              "    <g>\n",
              "        <path d=\"M19 3H5c-1.1 0-2 .9-2 2v14c0 1.1.9 2 2 2h14c1.1 0 2-.9 2-2V5c0-1.1-.9-2-2-2zM9 17H7v-7h2v7zm4 0h-2V7h2v10zm4 0h-2v-4h2v4z\"/>\n",
              "    </g>\n",
              "</svg>\n",
              "  </button>\n",
              "\n",
              "<style>\n",
              "  .colab-df-quickchart {\n",
              "      --bg-color: #E8F0FE;\n",
              "      --fill-color: #1967D2;\n",
              "      --hover-bg-color: #E2EBFA;\n",
              "      --hover-fill-color: #174EA6;\n",
              "      --disabled-fill-color: #AAA;\n",
              "      --disabled-bg-color: #DDD;\n",
              "  }\n",
              "\n",
              "  [theme=dark] .colab-df-quickchart {\n",
              "      --bg-color: #3B4455;\n",
              "      --fill-color: #D2E3FC;\n",
              "      --hover-bg-color: #434B5C;\n",
              "      --hover-fill-color: #FFFFFF;\n",
              "      --disabled-bg-color: #3B4455;\n",
              "      --disabled-fill-color: #666;\n",
              "  }\n",
              "\n",
              "  .colab-df-quickchart {\n",
              "    background-color: var(--bg-color);\n",
              "    border: none;\n",
              "    border-radius: 50%;\n",
              "    cursor: pointer;\n",
              "    display: none;\n",
              "    fill: var(--fill-color);\n",
              "    height: 32px;\n",
              "    padding: 0;\n",
              "    width: 32px;\n",
              "  }\n",
              "\n",
              "  .colab-df-quickchart:hover {\n",
              "    background-color: var(--hover-bg-color);\n",
              "    box-shadow: 0 1px 2px rgba(60, 64, 67, 0.3), 0 1px 3px 1px rgba(60, 64, 67, 0.15);\n",
              "    fill: var(--button-hover-fill-color);\n",
              "  }\n",
              "\n",
              "  .colab-df-quickchart-complete:disabled,\n",
              "  .colab-df-quickchart-complete:disabled:hover {\n",
              "    background-color: var(--disabled-bg-color);\n",
              "    fill: var(--disabled-fill-color);\n",
              "    box-shadow: none;\n",
              "  }\n",
              "\n",
              "  .colab-df-spinner {\n",
              "    border: 2px solid var(--fill-color);\n",
              "    border-color: transparent;\n",
              "    border-bottom-color: var(--fill-color);\n",
              "    animation:\n",
              "      spin 1s steps(1) infinite;\n",
              "  }\n",
              "\n",
              "  @keyframes spin {\n",
              "    0% {\n",
              "      border-color: transparent;\n",
              "      border-bottom-color: var(--fill-color);\n",
              "      border-left-color: var(--fill-color);\n",
              "    }\n",
              "    20% {\n",
              "      border-color: transparent;\n",
              "      border-left-color: var(--fill-color);\n",
              "      border-top-color: var(--fill-color);\n",
              "    }\n",
              "    30% {\n",
              "      border-color: transparent;\n",
              "      border-left-color: var(--fill-color);\n",
              "      border-top-color: var(--fill-color);\n",
              "      border-right-color: var(--fill-color);\n",
              "    }\n",
              "    40% {\n",
              "      border-color: transparent;\n",
              "      border-right-color: var(--fill-color);\n",
              "      border-top-color: var(--fill-color);\n",
              "    }\n",
              "    60% {\n",
              "      border-color: transparent;\n",
              "      border-right-color: var(--fill-color);\n",
              "    }\n",
              "    80% {\n",
              "      border-color: transparent;\n",
              "      border-right-color: var(--fill-color);\n",
              "      border-bottom-color: var(--fill-color);\n",
              "    }\n",
              "    90% {\n",
              "      border-color: transparent;\n",
              "      border-bottom-color: var(--fill-color);\n",
              "    }\n",
              "  }\n",
              "</style>\n",
              "\n",
              "  <script>\n",
              "    async function quickchart(key) {\n",
              "      const quickchartButtonEl =\n",
              "        document.querySelector('#' + key + ' button');\n",
              "      quickchartButtonEl.disabled = true;  // To prevent multiple clicks.\n",
              "      quickchartButtonEl.classList.add('colab-df-spinner');\n",
              "      try {\n",
              "        const charts = await google.colab.kernel.invokeFunction(\n",
              "            'suggestCharts', [key], {});\n",
              "      } catch (error) {\n",
              "        console.error('Error during call to suggestCharts:', error);\n",
              "      }\n",
              "      quickchartButtonEl.classList.remove('colab-df-spinner');\n",
              "      quickchartButtonEl.classList.add('colab-df-quickchart-complete');\n",
              "    }\n",
              "    (() => {\n",
              "      let quickchartButtonEl =\n",
              "        document.querySelector('#df-dfa8d637-356c-4cbd-95de-02bb929cd6a1 button');\n",
              "      quickchartButtonEl.style.display =\n",
              "        google.colab.kernel.accessAllowed ? 'block' : 'none';\n",
              "    })();\n",
              "  </script>\n",
              "</div>\n",
              "\n",
              "  <div id=\"id_bfeb4b3c-3d90-47cb-a312-e3551030675c\">\n",
              "    <style>\n",
              "      .colab-df-generate {\n",
              "        background-color: #E8F0FE;\n",
              "        border: none;\n",
              "        border-radius: 50%;\n",
              "        cursor: pointer;\n",
              "        display: none;\n",
              "        fill: #1967D2;\n",
              "        height: 32px;\n",
              "        padding: 0 0 0 0;\n",
              "        width: 32px;\n",
              "      }\n",
              "\n",
              "      .colab-df-generate:hover {\n",
              "        background-color: #E2EBFA;\n",
              "        box-shadow: 0px 1px 2px rgba(60, 64, 67, 0.3), 0px 1px 3px 1px rgba(60, 64, 67, 0.15);\n",
              "        fill: #174EA6;\n",
              "      }\n",
              "\n",
              "      [theme=dark] .colab-df-generate {\n",
              "        background-color: #3B4455;\n",
              "        fill: #D2E3FC;\n",
              "      }\n",
              "\n",
              "      [theme=dark] .colab-df-generate:hover {\n",
              "        background-color: #434B5C;\n",
              "        box-shadow: 0px 1px 3px 1px rgba(0, 0, 0, 0.15);\n",
              "        filter: drop-shadow(0px 1px 2px rgba(0, 0, 0, 0.3));\n",
              "        fill: #FFFFFF;\n",
              "      }\n",
              "    </style>\n",
              "    <button class=\"colab-df-generate\" onclick=\"generateWithVariable('tweets_df')\"\n",
              "            title=\"Generate code using this dataframe.\"\n",
              "            style=\"display:none;\">\n",
              "\n",
              "  <svg xmlns=\"http://www.w3.org/2000/svg\" height=\"24px\"viewBox=\"0 0 24 24\"\n",
              "       width=\"24px\">\n",
              "    <path d=\"M7,19H8.4L18.45,9,17,7.55,7,17.6ZM5,21V16.75L18.45,3.32a2,2,0,0,1,2.83,0l1.4,1.43a1.91,1.91,0,0,1,.58,1.4,1.91,1.91,0,0,1-.58,1.4L9.25,21ZM18.45,9,17,7.55Zm-12,3A5.31,5.31,0,0,0,4.9,8.1,5.31,5.31,0,0,0,1,6.5,5.31,5.31,0,0,0,4.9,4.9,5.31,5.31,0,0,0,6.5,1,5.31,5.31,0,0,0,8.1,4.9,5.31,5.31,0,0,0,12,6.5,5.46,5.46,0,0,0,6.5,12Z\"/>\n",
              "  </svg>\n",
              "    </button>\n",
              "    <script>\n",
              "      (() => {\n",
              "      const buttonEl =\n",
              "        document.querySelector('#id_bfeb4b3c-3d90-47cb-a312-e3551030675c button.colab-df-generate');\n",
              "      buttonEl.style.display =\n",
              "        google.colab.kernel.accessAllowed ? 'block' : 'none';\n",
              "\n",
              "      buttonEl.onclick = () => {\n",
              "        google.colab.notebook.generateWithVariable('tweets_df');\n",
              "      }\n",
              "      })();\n",
              "    </script>\n",
              "  </div>\n",
              "\n",
              "    </div>\n",
              "  </div>\n"
            ],
            "application/vnd.google.colaboratory.intrinsic+json": {
              "type": "dataframe",
              "variable_name": "tweets_df",
              "repr_error": "'str' object has no attribute 'empty'"
            }
          },
          "metadata": {},
          "execution_count": 2
        }
      ]
    },
    {
      "cell_type": "code",
      "source": [
        "## Remove Stop Words and Tokenize the Tweets\" ##\n",
        "stop_words = set(stopwords.words('english'))\n",
        "def data_processing(text):\n",
        "    text= text.lower()\n",
        "    text = re.sub('<br />', '', text)\n",
        "    text = re.sub(r\"https\\S+|www\\S+|http\\S+\", '', text, flags = re.MULTILINE)\n",
        "    text = re.sub(r'\\@w+|\\#', '', text)\n",
        "    text = re.sub(r'[^\\w\\s]', '', text)\n",
        "    text_tokens = word_tokenize(text)\n",
        "    filtered_text = [w for w in text_tokens if not w in stop_words]\n",
        "    return \" \".join(filtered_text)\n",
        "\n",
        "# clean tweets by removing stop words and unecessary text\n",
        "\n",
        "tweets_df.text = tweets_df['text'].apply(data_processing)\n",
        "tweets_df.text.head(6)"
      ],
      "metadata": {
        "id": "6fyLRaODRX4Q",
        "colab": {
          "base_uri": "https://localhost:8080/"
        },
        "outputId": "8f3b8eec-485d-4019-f9f9-5cbe5e5c6f0f"
      },
      "execution_count": null,
      "outputs": [
        {
          "output_type": "execute_result",
          "data": {
            "text/plain": [
              "0      republicans democrats created economic problems\n",
              "1    thrilled back great city charlotte north carol...\n",
              "3    unsolicited mail ballot scam major threat demo...\n",
              "6                      getting little exercise morning\n",
              "7                                                     \n",
              "8                                                     \n",
              "Name: text, dtype: object"
            ]
          },
          "metadata": {},
          "execution_count": 3
        }
      ]
    },
    {
      "cell_type": "code",
      "source": [
        "## Stem the words we tokenized from the tweets ##\n",
        "stemmer = PorterStemmer()\n",
        "def stemming(data):\n",
        "    text = [stemmer.stem(word) for word in data]\n",
        "    return data\n",
        "# apply stemming to text\n",
        "tweets_df.text = tweets_df['text'].apply(lambda x: stemming(x))\n",
        "\n",
        "X = tweets_df['text']\n",
        "Y = tweets_df['isFlagged']"
      ],
      "metadata": {
        "id": "YRtx2biQRbeZ"
      },
      "execution_count": null,
      "outputs": []
    },
    {
      "cell_type": "code",
      "source": [
        "# Separate the flagged and not flagged tweets to prepare for counter\n",
        "flagged_tweets =  tweets_df[tweets_df.isFlagged == True]\n",
        "nonflagged_tweets = tweets_df[tweets_df.isFlagged == False]\n",
        "\n",
        "# Seeing the most commonly used words in flagged tweets\n",
        "count = Counter()\n",
        "for text in flagged_tweets['text'].values:\n",
        "    for word in text.split():\n",
        "        count[word] +=1\n",
        "count.most_common(15)\n",
        "\n",
        "# seeing the most commonly used words in nonflagged tweets\n",
        "for text in nonflagged_tweets['text'].values:\n",
        "    for word in text.split():\n",
        "        count[word] +=1\n",
        "count.most_common(15)"
      ],
      "metadata": {
        "id": "hrv875vYRxf_",
        "colab": {
          "base_uri": "https://localhost:8080/"
        },
        "outputId": "b94a51cb-e293-49d4-d1b8-60bd9f766889"
      },
      "execution_count": null,
      "outputs": [
        {
          "output_type": "execute_result",
          "data": {
            "text/plain": [
              "[('realdonaldtrump', 8405),\n",
              " ('great', 7201),\n",
              " ('trump', 5275),\n",
              " ('amp', 4930),\n",
              " ('thank', 3307),\n",
              " ('president', 3102),\n",
              " ('people', 3044),\n",
              " ('us', 2406),\n",
              " ('would', 2199),\n",
              " ('get', 2180),\n",
              " ('country', 2114),\n",
              " ('new', 2112),\n",
              " ('thanks', 2082),\n",
              " ('big', 1994),\n",
              " ('america', 1890)]"
            ]
          },
          "metadata": {},
          "execution_count": 5
        }
      ]
    },
    {
      "cell_type": "code",
      "source": [
        "# IMPORTANT FOR BALANCING\n",
        "from imblearn.over_sampling import (RandomOverSampler)\n",
        "\n",
        "vect = TfidfVectorizer()\n",
        "X = vect.fit_transform(tweets_df['text'])\n",
        "\n",
        "resamp = RandomOverSampler()\n",
        "X, Y = resamp.fit_resample(X,Y)"
      ],
      "metadata": {
        "id": "v2Ow_a7FSBNS"
      },
      "execution_count": null,
      "outputs": []
    },
    {
      "cell_type": "code",
      "source": [
        "# Dimension reduction using PCA\n",
        "from sklearn.decomposition import TruncatedSVD\n",
        "pca = TruncatedSVD(n_components = 1000)\n",
        "X_pca = pca.fit_transform(X)"
      ],
      "metadata": {
        "id": "RARfDpG5SB1v"
      },
      "execution_count": null,
      "outputs": []
    },
    {
      "cell_type": "code",
      "source": [
        "# split dataset into training (80%) and testing (20%)\n",
        "x_train, x_test, y_train, y_test = train_test_split(X_pca, Y, test_size = 0.2, random_state = 123)\n",
        "print(\"Size of x_train: \", (x_train.shape))\n",
        "print(\"Size of y_train: \", (y_train.shape))\n",
        "print(\"Size of x_test: \", (x_test.shape))\n",
        "print(\"Size of y_test: \", (y_test.shape))"
      ],
      "metadata": {
        "id": "JBkkFsk1SDup",
        "colab": {
          "base_uri": "https://localhost:8080/"
        },
        "outputId": "87748270-cbe2-4bc9-88bb-73ed5d93b908"
      },
      "execution_count": null,
      "outputs": [
        {
          "output_type": "stream",
          "name": "stdout",
          "text": [
            "Size of x_train:  (74310, 1000)\n",
            "Size of y_train:  (74310,)\n",
            "Size of x_test:  (18578, 1000)\n",
            "Size of y_test:  (18578,)\n"
          ]
        }
      ]
    },
    {
      "cell_type": "code",
      "source": [
        "from sklearn.linear_model import LogisticRegression\n",
        "from sklearn.naive_bayes import MultinomialNB\n",
        "from sklearn.svm import LinearSVC\n",
        "from sklearn.metrics import classification_report\n",
        "from sklearn.metrics import accuracy_score, classification_report, confusion_matrix\n",
        "import warnings\n",
        "warnings.filterwarnings('ignore')\n",
        "\n",
        "\n",
        "## naive bayes ##\n",
        "x_train_nb, x_test_nb, y_train_nb, y_test_nb = train_test_split(X, Y, test_size = 0.2, random_state = 123)\n",
        "print(\"Size of x_train_nb: \", (x_train_nb.shape))\n",
        "print(\"Size of y_train_nb: \", (y_train_nb.shape))\n",
        "print(\"Size of x_test_nb: \", (x_test_nb.shape))\n",
        "print(\"Size of y_test_nb: \", (y_test_nb.shape))\n",
        "\n",
        "\n",
        "mnb = MultinomialNB()\n",
        "mnb.fit(x_train_nb, y_train_nb)\n",
        "mnb_pred = mnb.predict(x_test_nb)\n",
        "mnb_acc = accuracy_score(mnb_pred, y_test_nb)\n",
        "print(\"Test accuracy: {:.2f}%\".format(mnb_acc*100))\n",
        "print(classification_report(y_test_nb, mnb_pred))"
      ],
      "metadata": {
        "id": "n0dZ8eJpSMSX",
        "colab": {
          "base_uri": "https://localhost:8080/"
        },
        "outputId": "b0f827bd-b6f1-431a-c240-0267afd16927"
      },
      "execution_count": null,
      "outputs": [
        {
          "output_type": "stream",
          "name": "stdout",
          "text": [
            "Size of x_train_nb:  (74310, 43806)\n",
            "Size of y_train_nb:  (74310,)\n",
            "Size of x_test_nb:  (18578, 43806)\n",
            "Size of y_test_nb:  (18578,)\n",
            "Test accuracy: 97.39%\n",
            "              precision    recall  f1-score   support\n",
            "\n",
            "       False       1.00      0.95      0.97      9356\n",
            "        True       0.95      1.00      0.97      9222\n",
            "\n",
            "    accuracy                           0.97     18578\n",
            "   macro avg       0.98      0.97      0.97     18578\n",
            "weighted avg       0.98      0.97      0.97     18578\n",
            "\n"
          ]
        }
      ]
    },
    {
      "cell_type": "code",
      "source": [
        "## Logistic Regression ##\n",
        "logreg = LogisticRegression(solver = \"lbfgs\")\n",
        "logreg.fit(x_train, y_train)\n",
        "logreg_pred = logreg.predict(x_test)\n",
        "logreg_acc = accuracy_score(logreg_pred, y_test)\n",
        "print(\"Test accuracy: {:.2f}%\".format(logreg_acc*100))\n",
        "print(classification_report(y_test, logreg_pred))"
      ],
      "metadata": {
        "colab": {
          "base_uri": "https://localhost:8080/"
        },
        "id": "lPAMZ-Ry9YPz",
        "outputId": "a7c0ab8a-8e4c-4b3a-b6fc-2e9bc8455b97"
      },
      "execution_count": null,
      "outputs": [
        {
          "output_type": "stream",
          "name": "stdout",
          "text": [
            "Test accuracy: 97.32%\n",
            "              precision    recall  f1-score   support\n",
            "\n",
            "       False       1.00      0.95      0.97      9356\n",
            "        True       0.95      1.00      0.97      9222\n",
            "\n",
            "    accuracy                           0.97     18578\n",
            "   macro avg       0.97      0.97      0.97     18578\n",
            "weighted avg       0.97      0.97      0.97     18578\n",
            "\n"
          ]
        }
      ]
    },
    {
      "cell_type": "code",
      "source": [
        "## Linear SVC ##\n",
        "svc = LinearSVC(C = 100, loss = 'squared_hinge')\n",
        "svc.fit(x_train, y_train)\n",
        "svc_pred = svc.predict(x_test)\n",
        "svc_acc = accuracy_score(svc_pred, y_test)\n",
        "print(\"Test accuracy: {:.2f}%\".format(svc_acc*10 and I 0))\n",
        "print(classification_report(y_test, svc_pred))"
      ],
      "metadata": {
        "colab": {
          "base_uri": "https://localhost:8080/"
        },
        "id": "zqz3XZVfTbif",
        "outputId": "c4f953bc-3808-4343-fa71-4f7cab6c2641"
      },
      "execution_count": null,
      "outputs": [
        {
          "output_type": "stream",
          "name": "stdout",
          "text": [
            "Test accuracy: 97.86%\n",
            "              precision    recall  f1-score   support\n",
            "\n",
            "       False       1.00      0.96      0.98      9356\n",
            "        True       0.96      1.00      0.98      9222\n",
            "\n",
            "    accuracy                           0.98     18578\n",
            "   macro avg       0.98      0.98      0.98     18578\n",
            "weighted avg       0.98      0.98      0.98     18578\n",
            "\n"
          ]
        }
      ]
    },
    {
      "cell_type": "code",
      "source": [
        "## Using GridSearch to find the best hyperparameters for our SVC Model ##\n",
        "from sklearn.model_selection import GridSearchCV\n",
        "param_grid = {'C':[0.1, 1, 10, 100], 'loss':['hinge', 'squared_hinge']}\n",
        "grid = GridSearchCV(svc, param_grid, refit = True, verbose = 3)\n",
        "grid.fit(x_train, y_train)\n",
        "\n",
        "print(\"best cross validation score: {:.3f}\".format(grid.best_score_))\n",
        "print(\"best parameters: \", grid.best_params_)"
      ],
      "metadata": {
        "colab": {
          "base_uri": "https://localhost:8080/"
        },
        "id": "22zx5f_gTwA_",
        "outputId": "fab9d3ea-36ed-488e-a9f0-ae6c865393e9"
      },
      "execution_count": null,
      "outputs": [
        {
          "output_type": "stream",
          "name": "stdout",
          "text": [
            "Fitting 5 folds for each of 8 candidates, totalling 40 fits\n",
            "[CV 1/5] END .................C=0.1, loss=hinge;, score=0.905 total time=  11.2s\n",
            "[CV 2/5] END .................C=0.1, loss=hinge;, score=0.902 total time=  11.2s\n",
            "[CV 3/5] END .................C=0.1, loss=hinge;, score=0.901 total time=  16.5s\n",
            "[CV 4/5] END .................C=0.1, loss=hinge;, score=0.900 total time=  15.8s\n",
            "[CV 5/5] END .................C=0.1, loss=hinge;, score=0.902 total time=  14.6s\n",
            "[CV 1/5] END .........C=0.1, loss=squared_hinge;, score=0.975 total time=   3.5s\n",
            "[CV 2/5] END .........C=0.1, loss=squared_hinge;, score=0.974 total time=   3.8s\n",
            "[CV 3/5] END .........C=0.1, loss=squared_hinge;, score=0.976 total time=   4.3s\n",
            "[CV 4/5] END .........C=0.1, loss=squared_hinge;, score=0.975 total time=   3.2s\n",
            "[CV 5/5] END .........C=0.1, loss=squared_hinge;, score=0.976 total time=   3.5s\n",
            "[CV 1/5] END ...................C=1, loss=hinge;, score=0.972 total time= 1.4min\n",
            "[CV 2/5] END ...................C=1, loss=hinge;, score=0.971 total time=  38.4s\n",
            "[CV 3/5] END ...................C=1, loss=hinge;, score=0.972 total time= 1.4min\n",
            "[CV 4/5] END ...................C=1, loss=hinge;, score=0.971 total time= 1.4min\n",
            "[CV 5/5] END ...................C=1, loss=hinge;, score=0.973 total time= 1.5min\n",
            "[CV 1/5] END ...........C=1, loss=squared_hinge;, score=0.975 total time=   7.8s\n",
            "[CV 2/5] END ...........C=1, loss=squared_hinge;, score=0.975 total time=   6.8s\n",
            "[CV 3/5] END ...........C=1, loss=squared_hinge;, score=0.976 total time=   7.5s\n",
            "[CV 4/5] END ...........C=1, loss=squared_hinge;, score=0.976 total time=   7.2s\n",
            "[CV 5/5] END ...........C=1, loss=squared_hinge;, score=0.977 total time=   7.1s\n",
            "[CV 1/5] END ..................C=10, loss=hinge;, score=0.977 total time= 1.5min\n",
            "[CV 2/5] END ..................C=10, loss=hinge;, score=0.977 total time= 1.5min\n",
            "[CV 3/5] END ..................C=10, loss=hinge;, score=0.978 total time= 1.5min\n",
            "[CV 4/5] END ..................C=10, loss=hinge;, score=0.978 total time= 1.5min\n",
            "[CV 5/5] END ..................C=10, loss=hinge;, score=0.978 total time= 1.5min\n",
            "[CV 1/5] END ..........C=10, loss=squared_hinge;, score=0.978 total time= 1.0min\n",
            "[CV 2/5] END ..........C=10, loss=squared_hinge;, score=0.977 total time=  57.0s\n",
            "[CV 3/5] END ..........C=10, loss=squared_hinge;, score=0.978 total time= 1.1min\n",
            "[CV 4/5] END ..........C=10, loss=squared_hinge;, score=0.978 total time=  52.7s\n",
            "[CV 5/5] END ..........C=10, loss=squared_hinge;, score=0.979 total time=  56.3s\n",
            "[CV 1/5] END .................C=100, loss=hinge;, score=0.979 total time= 1.6min\n",
            "[CV 2/5] END .................C=100, loss=hinge;, score=0.978 total time= 1.6min\n",
            "[CV 3/5] END .................C=100, loss=hinge;, score=0.978 total time= 1.6min\n",
            "[CV 4/5] END .................C=100, loss=hinge;, score=0.978 total time= 1.5min\n",
            "[CV 5/5] END .................C=100, loss=hinge;, score=0.980 total time= 1.6min\n",
            "[CV 1/5] END .........C=100, loss=squared_hinge;, score=0.980 total time= 1.7min\n",
            "[CV 2/5] END .........C=100, loss=squared_hinge;, score=0.978 total time= 1.7min\n",
            "[CV 3/5] END .........C=100, loss=squared_hinge;, score=0.979 total time= 1.6min\n",
            "[CV 4/5] END .........C=100, loss=squared_hinge;, score=0.978 total time= 1.6min\n",
            "[CV 5/5] END .........C=100, loss=squared_hinge;, score=0.980 total time= 1.5min\n",
            "best cross validation score: 0.979\n",
            "best parameters:  {'C': 100, 'loss': 'squared_hinge'}\n"
          ]
        }
      ]
    },
    {
      "cell_type": "code",
      "source": [
        "## random forest ##\n",
        "rf = RandomForestClassifier()\n",
        "rf.fit(x_train, y_train)\n",
        "rf_pred = rf.predict(x_test)\n",
        "rf_acc = accuracy_score(rf_pred, y_test)\n",
        "print(\"Training set score: {:.3f}\".format(rf.score(x_train, y_train)))\n",
        "print(\"Test accuracy: {:.2f}%\".format(rf_acc * 100))\n",
        "print(classification_report(y_test, rf_pred))"
      ],
      "metadata": {
        "id": "wd9hiknXSOuo",
        "colab": {
          "base_uri": "https://localhost:8080/"
        },
        "outputId": "861615b2-aa22-45c4-e6dd-0a0c3c8e0c02"
      },
      "execution_count": null,
      "outputs": [
        {
          "output_type": "stream",
          "name": "stdout",
          "text": [
            "Training set score: 0.986\n",
            "Test accuracy: 98.53%\n",
            "              precision    recall  f1-score   support\n",
            "\n",
            "       False       1.00      0.97      0.99      9356\n",
            "        True       0.97      1.00      0.99      9222\n",
            "\n",
            "    accuracy                           0.99     18578\n",
            "   macro avg       0.99      0.99      0.99     18578\n",
            "weighted avg       0.99      0.99      0.99     18578\n",
            "\n"
          ]
        }
      ]
    },
    {
      "cell_type": "code",
      "source": [
        "## knn ##\n",
        "from sklearn.neighbors import KNeighborsClassifier\n",
        "\n",
        "knn_clf = KNeighborsClassifier()\n",
        "knn = KNeighborsClassifier(n_neighbors=3)\n",
        "knn.fit(x_train, y_train)\n",
        "y_pred_knn = knn.predict(x_test)\n",
        "accuracy = accuracy_score(y_test, y_pred_knn)\n",
        "\n",
        "print(\"Accuracy:\", accuracy)\n",
        "print(classification_report(y_test, y_pred_knn))"
      ],
      "metadata": {
        "colab": {
          "base_uri": "https://localhost:8080/"
        },
        "id": "OaqNFLMLOieA",
        "outputId": "4c5b50fd-663a-4f07-fb9c-6c607306f57c"
      },
      "execution_count": null,
      "outputs": [
        {
          "output_type": "stream",
          "name": "stdout",
          "text": [
            "Accuracy: 0.9849822370545807\n",
            "              precision    recall  f1-score   support\n",
            "\n",
            "       False       1.00      0.97      0.98      9356\n",
            "        True       0.97      1.00      0.99      9222\n",
            "\n",
            "    accuracy                           0.98     18578\n",
            "   macro avg       0.99      0.99      0.98     18578\n",
            "weighted avg       0.99      0.98      0.98     18578\n",
            "\n"
          ]
        }
      ]
    },
    {
      "cell_type": "code",
      "source": [
        "#Feature index Plot\n",
        "\n",
        "import matplotlib.pyplot as plt\n",
        "import numpy as np\n",
        "\n",
        "# Assuming 'rf' is your trained RandomForestClassifier\n",
        "importances = rf.feature_importances_\n",
        "std = np.std([tree.feature_importances_ for tree in rf.estimators_], axis=0)\n",
        "indices = np.argsort(importances)[::-1]\n",
        "\n",
        "# Plot the feature importances of the forest\n",
        "plt.figure()\n",
        "plt.title(\"Feature importances\")\n",
        "plt.bar(range(x_train.shape[1]), importances[indices], color=\"r\", yerr=std[indices], align=\"center\")\n",
        "plt.xticks(range(x_train.shape[1]), indices)\n",
        "plt.xlim([-1, x_train.shape[1]])\n",
        "plt.xlabel('Feature Index')\n",
        "plt.ylabel('Importance')\n",
        "plt.show()\n",
        "\n"
      ],
      "metadata": {
        "colab": {
          "base_uri": "https://localhost:8080/",
          "height": 477
        },
        "id": "K9SnWFH0W_vJ",
        "outputId": "b7bfbcff-5b6b-43c3-cc08-2130b48ddca2"
      },
      "execution_count": null,
      "outputs": [
        {
          "output_type": "display_data",
          "data": {
            "text/plain": [
              "<Figure size 640x480 with 1 Axes>"
            ],
            "image/png": "[encoded data removed]"
          },
          "metadata": {}
        }
      ]
    },
    {
      "cell_type": "code",
      "source": [
        "# confusion matrix\n",
        "\n",
        "from sklearn.metrics import confusion_matrix\n",
        "import seaborn as sns\n",
        "\n",
        "conf_mat = confusion_matrix(y_test, rf.predict(x_test))\n",
        "sns.heatmap(conf_mat, annot=True, fmt='d', cmap='Blues')\n",
        "plt.xlabel('Predicted')\n",
        "plt.ylabel('True')\n",
        "plt.title('Confusion Matrix')\n",
        "plt.show()\n",
        "\n"
      ],
      "metadata": {
        "colab": {
          "base_uri": "https://localhost:8080/",
          "height": 477
        },
        "id": "ZV6qcMLBYQ7r",
        "outputId": "40150ac8-c684-4557-9153-aa9992bbdfb5"
      },
      "execution_count": null,
      "outputs": [
        {
          "output_type": "display_data",
          "data": {
            "text/plain": [
              "<Figure size 640x480 with 2 Axes>"
            ],
            "image/png": "[encoded data removed]"
          },
          "metadata": {}
        }
      ]
    },
    {
      "cell_type": "code",
      "source": [
        "#ROC and AOC\n",
        "\n",
        "from sklearn.metrics import roc_curve, auc\n",
        "import matplotlib.pyplot as plt\n",
        "\n",
        "# Compute ROC curve and AUC for a binary classification task\n",
        "fpr, tpr, thresholds = roc_curve(y_test, rf.predict_proba(x_test)[:, 1])\n",
        "roc_auc = auc(fpr, tpr)\n",
        "\n",
        "plt.figure()\n",
        "plt.plot(fpr, tpr, color='darkorange', lw=2, label='ROC curve (area = %0.2f)' % roc_auc)\n",
        "plt.plot([0, 1], [0, 1], color='navy', lw=2, linestyle='--')\n",
        "plt.xlim([0.0, 1.0])\n",
        "plt.ylim([0.0, 1.05])\n",
        "plt.xlabel('False Positive Rate')\n",
        "plt.ylabel('True Positive Rate')\n",
        "plt.title('Receiver Operating Characteristic')\n",
        "plt.legend(loc=\"lower right\")\n",
        "plt.show()\n"
      ],
      "metadata": {
        "colab": {
          "base_uri": "https://localhost:8080/",
          "height": 477
        },
        "id": "8AJO_MEVYRN5",
        "outputId": "78e581f6-0922-4342-8753-25290dedb334"
      },
      "execution_count": null,
      "outputs": [
        {
          "output_type": "display_data",
          "data": {
            "text/plain": [
              "<Figure size 640x480 with 1 Axes>"
            ],
            "image/png": "[encoded data removed]"
          },
          "metadata": {}
        }
      ]
    },
    {
      "cell_type": "code",
      "source": [
        "#Precision recall curve\n",
        "\n",
        "from sklearn.metrics import precision_recall_curve\n",
        "from sklearn.metrics import average_precision_score\n",
        "\n",
        "precision, recall, _ = precision_recall_curve(y_test, rf.predict_proba(x_test)[:, 1])\n",
        "average_precision = average_precision_score(y_test, rf.predict_proba(x_test)[:, 1])\n",
        "\n",
        "plt.figure()\n",
        "plt.step(recall, precision, where='post', label='Average precision (AP)={0:0.2f}'.format(average_precision))\n",
        "plt.xlabel('Recall')\n",
        "plt.ylabel('Precision')\n",
        "plt.ylim([0.0, 1.05])\n",
        "plt.xlim([0.0, 1.0])\n",
        "plt.title('2-class Precision-Recall curve: AP={0:0.2f}'.format(average_precision))\n",
        "plt.legend(loc=\"upper right\")\n",
        "plt.show()\n"
      ],
      "metadata": {
        "colab": {
          "base_uri": "https://localhost:8080/",
          "height": 477
        },
        "id": "Q4TjjRPtaNoz",
        "outputId": "64e68ef0-1ceb-42c5-bc64-c5bd3110caac"
      },
      "execution_count": null,
      "outputs": [
        {
          "output_type": "display_data",
          "data": {
            "text/plain": [
              "<Figure size 640x480 with 1 Axes>"
            ],
            "image/png": "[encoded data removed]"
          },
          "metadata": {}
        }
      ]
    },
    {
      "cell_type": "code",
      "source": [],
      "metadata": {
        "id": "7Kw4jZI9SPgS",
        "colab": {
          "base_uri": "https://localhost:8080/"
        },
        "outputId": "f0ff1fe1-ed54-4bc4-c629-ac53658a9f5e"
      },
      "execution_count": null,
      "outputs": [
        {
          "output_type": "stream",
          "name": "stdout",
          "text": [
            "Size of x_train_knn:  (74310, 43806)\n",
            "Size of y_train_knn:  (74310,)\n",
            "Size of x_test_knn:  (18578, 43806)\n",
            "Size of y_test_knn:  (18578,)\n",
            "Accuracy: 0.5511895790720207\n",
            "              precision    recall  f1-score   support\n",
            "\n",
            "       False       1.00      0.11      0.20      9356\n",
            "        True       0.53      1.00      0.69      9222\n",
            "\n",
            "    accuracy                           0.55     18578\n",
            "   macro avg       0.76      0.55      0.44     18578\n",
            "weighted avg       0.76      0.55      0.44     18578\n",
            "\n"
          ]
        }
      ]
    }
  ]
}